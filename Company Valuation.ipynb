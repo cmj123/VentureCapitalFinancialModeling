{
 "cells": [
  {
   "cell_type": "markdown",
   "metadata": {},
   "source": [
    "# Free Cash Flow"
   ]
  },
  {
   "cell_type": "code",
   "execution_count": 1,
   "metadata": {},
   "outputs": [],
   "source": [
    "# Import key libraries, function and classes\n",
    "import numpy as np\n",
    "import pandas as pd"
   ]
  },
  {
   "cell_type": "code",
   "execution_count": 2,
   "metadata": {},
   "outputs": [],
   "source": [
    "# Note\n",
    "## (1) - Fiscal years ending December 31\n",
    "## (2) - ($ in thousands)"
   ]
  },
  {
   "cell_type": "code",
   "execution_count": 3,
   "metadata": {},
   "outputs": [],
   "source": [
    "# Columns \n",
    "columns = ['2017','2018','2019','2020','2021']"
   ]
  },
  {
   "cell_type": "code",
   "execution_count": 4,
   "metadata": {},
   "outputs": [],
   "source": [
    "index = ['Tax rate', 'EBIT', '(-) Taxes', '(-) Capital expenditures', '(+) Depreciation', 'Free Cash Flow',\n",
    "         '(+) Investment', 'Free Cash Flow pro forma for investment','Sales','(x) Sales multiple', 'Total equity value',\n",
    "         '(-) Accured prefered dividends','(-) Preferred participation', 'Remaining equity value']"
   ]
  },
  {
   "cell_type": "code",
   "execution_count": 5,
   "metadata": {},
   "outputs": [],
   "source": [
    "# Initialise the free cash flow dataframe\n",
    "df_free_cash_flow = pd.DataFrame(columns= columns,\n",
    "                                 index=index)"
   ]
  },
  {
   "cell_type": "code",
   "execution_count": 6,
   "metadata": {},
   "outputs": [],
   "source": [
    "# Fill the DataFrame with zero\n",
    "df_free_cash_flow.fillna(0.0, inplace=True)"
   ]
  },
  {
   "cell_type": "code",
   "execution_count": 7,
   "metadata": {},
   "outputs": [],
   "source": [
    "# Set the tax rate across all years to 35%\n",
    "df_free_cash_flow.loc['Tax rate',:] = 0.35"
   ]
  },
  {
   "cell_type": "code",
   "execution_count": 8,
   "metadata": {},
   "outputs": [],
   "source": [
    "# Set the EBIT based on financial analysis of the company\n",
    "df_free_cash_flow.loc['EBIT',:]= [-500,-1000,1000,2500,4000]"
   ]
  },
  {
   "cell_type": "code",
   "execution_count": 9,
   "metadata": {},
   "outputs": [],
   "source": [
    "# Calculate tax\n",
    "df_free_cash_flow.loc['(-) Taxes',:] = df_free_cash_flow.loc['Tax rate',:]*df_free_cash_flow.loc['EBIT',:]"
   ]
  },
  {
   "cell_type": "code",
   "execution_count": 10,
   "metadata": {},
   "outputs": [],
   "source": [
    "# If take is less than 0 set it to zero as you dont pay tax when EBIT is negative\n",
    "df_free_cash_flow.loc['(-) Taxes',:] = [x if x >= 0 else 0.0 for x in df_free_cash_flow.loc['(-) Taxes',:].tolist()]"
   ]
  },
  {
   "cell_type": "code",
   "execution_count": 11,
   "metadata": {},
   "outputs": [],
   "source": [
    "# Set the Capital expenditures\n",
    "df_free_cash_flow.loc['(-) Capital expenditures',:] = [-500, -2000, -1500, -500, -500]"
   ]
  },
  {
   "cell_type": "code",
   "execution_count": 12,
   "metadata": {},
   "outputs": [],
   "source": [
    "# Set the Depreciation\n",
    "df_free_cash_flow.loc['(+) Depreciation',:] = [0, 500, 750, 750, 500]"
   ]
  },
  {
   "cell_type": "code",
   "execution_count": 13,
   "metadata": {},
   "outputs": [
    {
     "name": "stdout",
     "output_type": "stream",
     "text": [
      "                                            2017     2018     2019     2020  \\\n",
      "Tax rate                                    0.35     0.35     0.35     0.35   \n",
      "EBIT                                     -500.00 -1000.00  1000.00  2500.00   \n",
      "(-) Taxes                                   0.00     0.00   350.00   875.00   \n",
      "(-) Capital expenditures                 -500.00 -2000.00 -1500.00  -500.00   \n",
      "(+) Depreciation                            0.00   500.00   750.00   750.00   \n",
      "Free Cash Flow                          -1000.00 -2500.00   600.00  3625.00   \n",
      "(+) Investment                              0.00     0.00     0.00     0.00   \n",
      "Free Cash Flow pro forma for investment     0.00     0.00     0.00     0.00   \n",
      "Sales                                       0.00     0.00     0.00     0.00   \n",
      "(x) Sales multiple                          0.00     0.00     0.00     0.00   \n",
      "Total equity value                          0.00     0.00     0.00     0.00   \n",
      "(-) Accured prefered dividends              0.00     0.00     0.00     0.00   \n",
      "(-) Preferred participation                 0.00     0.00     0.00     0.00   \n",
      "Remaining equity value                      0.00     0.00     0.00     0.00   \n",
      "\n",
      "                                            2021  \n",
      "Tax rate                                    0.35  \n",
      "EBIT                                     4000.00  \n",
      "(-) Taxes                                1400.00  \n",
      "(-) Capital expenditures                 -500.00  \n",
      "(+) Depreciation                          500.00  \n",
      "Free Cash Flow                           5400.00  \n",
      "(+) Investment                              0.00  \n",
      "Free Cash Flow pro forma for investment     0.00  \n",
      "Sales                                       0.00  \n",
      "(x) Sales multiple                          0.00  \n",
      "Total equity value                          0.00  \n",
      "(-) Accured prefered dividends              0.00  \n",
      "(-) Preferred participation                 0.00  \n",
      "Remaining equity value                      0.00  \n"
     ]
    }
   ],
   "source": [
    "# Calculate free cash flow\n",
    "df_free_cash_flow.loc['Free Cash Flow',:] = df_free_cash_flow.loc['EBIT',:] + df_free_cash_flow.loc['(-) Taxes',:] + df_free_cash_flow.loc['(-) Capital expenditures',:] + df_free_cash_flow.loc['(+) Depreciation',:]\n",
    "\n",
    "print(df_free_cash_flow)"
   ]
  },
  {
   "cell_type": "markdown",
   "metadata": {},
   "source": [
    "# Company Valuation "
   ]
  },
  {
   "cell_type": "code",
   "execution_count": 14,
   "metadata": {},
   "outputs": [],
   "source": [
    "# Note\n",
    "## 1. Valuation started at the most far out year"
   ]
  },
  {
   "cell_type": "code",
   "execution_count": 15,
   "metadata": {},
   "outputs": [],
   "source": [
    "# Enter desired sales - assume ~4x Revenue \n",
    "df_free_cash_flow.loc['Sales', '2021'] = 15000"
   ]
  },
  {
   "cell_type": "code",
   "execution_count": 16,
   "metadata": {},
   "outputs": [],
   "source": [
    "# Assuming 2x sales multiple \n",
    "df_free_cash_flow.loc['(x) Sales multiple', '2021'] = 2"
   ]
  },
  {
   "cell_type": "code",
   "execution_count": 17,
   "metadata": {},
   "outputs": [],
   "source": [
    "# Calculate the enterprise value \n",
    "df_free_cash_flow.loc['Total equity value', :] =  df_free_cash_flow.loc['(x) Sales multiple', :] * df_free_cash_flow.loc['Sales', :] "
   ]
  },
  {
   "cell_type": "code",
   "execution_count": 18,
   "metadata": {},
   "outputs": [],
   "source": [
    "# Assume most early companies have not net debt"
   ]
  },
  {
   "cell_type": "code",
   "execution_count": 19,
   "metadata": {},
   "outputs": [
    {
     "data": {
      "text/html": [
       "<div>\n",
       "<style scoped>\n",
       "    .dataframe tbody tr th:only-of-type {\n",
       "        vertical-align: middle;\n",
       "    }\n",
       "\n",
       "    .dataframe tbody tr th {\n",
       "        vertical-align: top;\n",
       "    }\n",
       "\n",
       "    .dataframe thead th {\n",
       "        text-align: right;\n",
       "    }\n",
       "</style>\n",
       "<table border=\"1\" class=\"dataframe\">\n",
       "  <thead>\n",
       "    <tr style=\"text-align: right;\">\n",
       "      <th></th>\n",
       "      <th>2017</th>\n",
       "      <th>2018</th>\n",
       "      <th>2019</th>\n",
       "      <th>2020</th>\n",
       "      <th>2021</th>\n",
       "    </tr>\n",
       "  </thead>\n",
       "  <tbody>\n",
       "    <tr>\n",
       "      <th>Tax rate</th>\n",
       "      <td>0.35</td>\n",
       "      <td>0.35</td>\n",
       "      <td>0.35</td>\n",
       "      <td>0.35</td>\n",
       "      <td>0.35</td>\n",
       "    </tr>\n",
       "    <tr>\n",
       "      <th>EBIT</th>\n",
       "      <td>-500.00</td>\n",
       "      <td>-1000.00</td>\n",
       "      <td>1000.00</td>\n",
       "      <td>2500.00</td>\n",
       "      <td>4000.00</td>\n",
       "    </tr>\n",
       "    <tr>\n",
       "      <th>(-) Taxes</th>\n",
       "      <td>0.00</td>\n",
       "      <td>0.00</td>\n",
       "      <td>350.00</td>\n",
       "      <td>875.00</td>\n",
       "      <td>1400.00</td>\n",
       "    </tr>\n",
       "    <tr>\n",
       "      <th>(-) Capital expenditures</th>\n",
       "      <td>-500.00</td>\n",
       "      <td>-2000.00</td>\n",
       "      <td>-1500.00</td>\n",
       "      <td>-500.00</td>\n",
       "      <td>-500.00</td>\n",
       "    </tr>\n",
       "    <tr>\n",
       "      <th>(+) Depreciation</th>\n",
       "      <td>0.00</td>\n",
       "      <td>500.00</td>\n",
       "      <td>750.00</td>\n",
       "      <td>750.00</td>\n",
       "      <td>500.00</td>\n",
       "    </tr>\n",
       "    <tr>\n",
       "      <th>Free Cash Flow</th>\n",
       "      <td>-1000.00</td>\n",
       "      <td>-2500.00</td>\n",
       "      <td>600.00</td>\n",
       "      <td>3625.00</td>\n",
       "      <td>5400.00</td>\n",
       "    </tr>\n",
       "    <tr>\n",
       "      <th>(+) Investment</th>\n",
       "      <td>0.00</td>\n",
       "      <td>0.00</td>\n",
       "      <td>0.00</td>\n",
       "      <td>0.00</td>\n",
       "      <td>0.00</td>\n",
       "    </tr>\n",
       "    <tr>\n",
       "      <th>Free Cash Flow pro forma for investment</th>\n",
       "      <td>0.00</td>\n",
       "      <td>0.00</td>\n",
       "      <td>0.00</td>\n",
       "      <td>0.00</td>\n",
       "      <td>0.00</td>\n",
       "    </tr>\n",
       "    <tr>\n",
       "      <th>Sales</th>\n",
       "      <td>0.00</td>\n",
       "      <td>0.00</td>\n",
       "      <td>0.00</td>\n",
       "      <td>0.00</td>\n",
       "      <td>15000.00</td>\n",
       "    </tr>\n",
       "    <tr>\n",
       "      <th>(x) Sales multiple</th>\n",
       "      <td>0.00</td>\n",
       "      <td>0.00</td>\n",
       "      <td>0.00</td>\n",
       "      <td>0.00</td>\n",
       "      <td>2.00</td>\n",
       "    </tr>\n",
       "    <tr>\n",
       "      <th>Total equity value</th>\n",
       "      <td>0.00</td>\n",
       "      <td>0.00</td>\n",
       "      <td>0.00</td>\n",
       "      <td>0.00</td>\n",
       "      <td>30000.00</td>\n",
       "    </tr>\n",
       "    <tr>\n",
       "      <th>(-) Accured prefered dividends</th>\n",
       "      <td>0.00</td>\n",
       "      <td>0.00</td>\n",
       "      <td>0.00</td>\n",
       "      <td>0.00</td>\n",
       "      <td>0.00</td>\n",
       "    </tr>\n",
       "    <tr>\n",
       "      <th>(-) Preferred participation</th>\n",
       "      <td>0.00</td>\n",
       "      <td>0.00</td>\n",
       "      <td>0.00</td>\n",
       "      <td>0.00</td>\n",
       "      <td>0.00</td>\n",
       "    </tr>\n",
       "    <tr>\n",
       "      <th>Remaining equity value</th>\n",
       "      <td>0.00</td>\n",
       "      <td>0.00</td>\n",
       "      <td>0.00</td>\n",
       "      <td>0.00</td>\n",
       "      <td>0.00</td>\n",
       "    </tr>\n",
       "  </tbody>\n",
       "</table>\n",
       "</div>"
      ],
      "text/plain": [
       "                                            2017     2018     2019     2020  \\\n",
       "Tax rate                                    0.35     0.35     0.35     0.35   \n",
       "EBIT                                     -500.00 -1000.00  1000.00  2500.00   \n",
       "(-) Taxes                                   0.00     0.00   350.00   875.00   \n",
       "(-) Capital expenditures                 -500.00 -2000.00 -1500.00  -500.00   \n",
       "(+) Depreciation                            0.00   500.00   750.00   750.00   \n",
       "Free Cash Flow                          -1000.00 -2500.00   600.00  3625.00   \n",
       "(+) Investment                              0.00     0.00     0.00     0.00   \n",
       "Free Cash Flow pro forma for investment     0.00     0.00     0.00     0.00   \n",
       "Sales                                       0.00     0.00     0.00     0.00   \n",
       "(x) Sales multiple                          0.00     0.00     0.00     0.00   \n",
       "Total equity value                          0.00     0.00     0.00     0.00   \n",
       "(-) Accured prefered dividends              0.00     0.00     0.00     0.00   \n",
       "(-) Preferred participation                 0.00     0.00     0.00     0.00   \n",
       "Remaining equity value                      0.00     0.00     0.00     0.00   \n",
       "\n",
       "                                             2021  \n",
       "Tax rate                                     0.35  \n",
       "EBIT                                      4000.00  \n",
       "(-) Taxes                                 1400.00  \n",
       "(-) Capital expenditures                  -500.00  \n",
       "(+) Depreciation                           500.00  \n",
       "Free Cash Flow                            5400.00  \n",
       "(+) Investment                               0.00  \n",
       "Free Cash Flow pro forma for investment      0.00  \n",
       "Sales                                    15000.00  \n",
       "(x) Sales multiple                           2.00  \n",
       "Total equity value                       30000.00  \n",
       "(-) Accured prefered dividends               0.00  \n",
       "(-) Preferred participation                  0.00  \n",
       "Remaining equity value                       0.00  "
      ]
     },
     "execution_count": 19,
     "metadata": {},
     "output_type": "execute_result"
    }
   ],
   "source": [
    "df_free_cash_flow"
   ]
  },
  {
   "cell_type": "code",
   "execution_count": null,
   "metadata": {},
   "outputs": [],
   "source": []
  },
  {
   "cell_type": "code",
   "execution_count": null,
   "metadata": {},
   "outputs": [],
   "source": []
  }
 ],
 "metadata": {
  "kernelspec": {
   "display_name": "Python 3",
   "language": "python",
   "name": "python3"
  },
  "language_info": {
   "codemirror_mode": {
    "name": "ipython",
    "version": 3
   },
   "file_extension": ".py",
   "mimetype": "text/x-python",
   "name": "python",
   "nbconvert_exporter": "python",
   "pygments_lexer": "ipython3",
   "version": "3.7.3"
  }
 },
 "nbformat": 4,
 "nbformat_minor": 2
}
