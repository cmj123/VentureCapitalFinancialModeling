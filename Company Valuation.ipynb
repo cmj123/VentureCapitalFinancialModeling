{
 "cells": [
  {
   "cell_type": "markdown",
   "metadata": {},
   "source": [
    "# Free Cash Flow"
   ]
  },
  {
   "cell_type": "code",
   "execution_count": 1,
   "metadata": {},
   "outputs": [],
   "source": [
    "# Import key libraries, function and classes\n",
    "import numpy as np\n",
    "import pandas as pd"
   ]
  },
  {
   "cell_type": "code",
   "execution_count": 2,
   "metadata": {},
   "outputs": [],
   "source": [
    "# Note\n",
    "## (1) - Fiscal years ending December 31\n",
    "## (2) - ($ in thousands)"
   ]
  },
  {
   "cell_type": "code",
   "execution_count": 3,
   "metadata": {},
   "outputs": [],
   "source": [
    "# Columns \n",
    "columns = ['2017','2018','2019','2020','2021']"
   ]
  },
  {
   "cell_type": "code",
   "execution_count": 4,
   "metadata": {},
   "outputs": [],
   "source": [
    "index = ['Tax rate', 'EBIT', '(-) Taxes', '(-) Capital expenditures', '(+) Depreciation', 'Free Cash Flow',\n",
    "         '(+) Investment', 'Free Cash Flow pro forma for investment','Sales','(x) Sales multiple', 'Total equity value',\n",
    "         '(-) Accured prefered dividends','(-) Preferred participation', 'Remaining equity value', \n",
    "         'Discount rate (CAPM)','(/) Probability of success',\n",
    "         'Hurdle Rate','Discount factor', 'Discounted equity value', '(-) Investment need', 'Post-money equity value',\n",
    "         '(-) Equity Investment', 'Pre-money equity value', 'Pre-money price/share']"
   ]
  },
  {
   "cell_type": "code",
   "execution_count": 5,
   "metadata": {},
   "outputs": [],
   "source": [
    "# Initialise the free cash flow dataframe\n",
    "df_free_cash_flow = pd.DataFrame(columns= columns,\n",
    "                                 index=index)"
   ]
  },
  {
   "cell_type": "code",
   "execution_count": 6,
   "metadata": {},
   "outputs": [],
   "source": [
    "# Fill the DataFrame with zero\n",
    "df_free_cash_flow.fillna(0.0, inplace=True)"
   ]
  },
  {
   "cell_type": "code",
   "execution_count": 7,
   "metadata": {},
   "outputs": [],
   "source": [
    "# Set the tax rate across all years to 35%\n",
    "df_free_cash_flow.loc['Tax rate',:] = 0.35"
   ]
  },
  {
   "cell_type": "code",
   "execution_count": 8,
   "metadata": {},
   "outputs": [],
   "source": [
    "# Set the EBIT based on financial analysis of the company\n",
    "df_free_cash_flow.loc['EBIT',:]= [-500,-1000,1000,2500,4000]"
   ]
  },
  {
   "cell_type": "code",
   "execution_count": 9,
   "metadata": {},
   "outputs": [],
   "source": [
    "# Calculate tax\n",
    "df_free_cash_flow.loc['(-) Taxes',:] = df_free_cash_flow.loc['Tax rate',:]*df_free_cash_flow.loc['EBIT',:]"
   ]
  },
  {
   "cell_type": "code",
   "execution_count": 10,
   "metadata": {},
   "outputs": [],
   "source": [
    "# If take is less than 0 set it to zero as you dont pay tax when EBIT is negative\n",
    "df_free_cash_flow.loc['(-) Taxes',:] = [x if x >= 0 else 0.0 for x in df_free_cash_flow.loc['(-) Taxes',:].tolist()]"
   ]
  },
  {
   "cell_type": "code",
   "execution_count": 11,
   "metadata": {},
   "outputs": [],
   "source": [
    "# Set the Capital expenditures\n",
    "df_free_cash_flow.loc['(-) Capital expenditures',:] = [-500, -2000, -1500, -500, -500]"
   ]
  },
  {
   "cell_type": "code",
   "execution_count": 12,
   "metadata": {},
   "outputs": [],
   "source": [
    "# Set the Depreciation\n",
    "df_free_cash_flow.loc['(+) Depreciation',:] = [0, 500, 750, 750, 500]"
   ]
  },
  {
   "cell_type": "code",
   "execution_count": 13,
   "metadata": {},
   "outputs": [
    {
     "name": "stdout",
     "output_type": "stream",
     "text": [
      "                                            2017     2018     2019     2020  \\\n",
      "Tax rate                                    0.35     0.35     0.35     0.35   \n",
      "EBIT                                     -500.00 -1000.00  1000.00  2500.00   \n",
      "(-) Taxes                                   0.00     0.00   350.00   875.00   \n",
      "(-) Capital expenditures                 -500.00 -2000.00 -1500.00  -500.00   \n",
      "(+) Depreciation                            0.00   500.00   750.00   750.00   \n",
      "Free Cash Flow                          -1000.00 -2500.00   600.00  3625.00   \n",
      "(+) Investment                              0.00     0.00     0.00     0.00   \n",
      "Free Cash Flow pro forma for investment     0.00     0.00     0.00     0.00   \n",
      "Sales                                       0.00     0.00     0.00     0.00   \n",
      "(x) Sales multiple                          0.00     0.00     0.00     0.00   \n",
      "Total equity value                          0.00     0.00     0.00     0.00   \n",
      "(-) Accured prefered dividends              0.00     0.00     0.00     0.00   \n",
      "(-) Preferred participation                 0.00     0.00     0.00     0.00   \n",
      "Remaining equity value                      0.00     0.00     0.00     0.00   \n",
      "Discount rate (CAPM)                        0.00     0.00     0.00     0.00   \n",
      "(/) Probability of success                  0.00     0.00     0.00     0.00   \n",
      "Hurdle Rate                                 0.00     0.00     0.00     0.00   \n",
      "Discount factor                             0.00     0.00     0.00     0.00   \n",
      "Discounted equity value                     0.00     0.00     0.00     0.00   \n",
      "(-) Investment need                         0.00     0.00     0.00     0.00   \n",
      "Post-money equity value                     0.00     0.00     0.00     0.00   \n",
      "(-) Equity Investment                       0.00     0.00     0.00     0.00   \n",
      "Pre-money equity value                      0.00     0.00     0.00     0.00   \n",
      "Pre-money price/share                       0.00     0.00     0.00     0.00   \n",
      "\n",
      "                                            2021  \n",
      "Tax rate                                    0.35  \n",
      "EBIT                                     4000.00  \n",
      "(-) Taxes                                1400.00  \n",
      "(-) Capital expenditures                 -500.00  \n",
      "(+) Depreciation                          500.00  \n",
      "Free Cash Flow                           5400.00  \n",
      "(+) Investment                              0.00  \n",
      "Free Cash Flow pro forma for investment     0.00  \n",
      "Sales                                       0.00  \n",
      "(x) Sales multiple                          0.00  \n",
      "Total equity value                          0.00  \n",
      "(-) Accured prefered dividends              0.00  \n",
      "(-) Preferred participation                 0.00  \n",
      "Remaining equity value                      0.00  \n",
      "Discount rate (CAPM)                        0.00  \n",
      "(/) Probability of success                  0.00  \n",
      "Hurdle Rate                                 0.00  \n",
      "Discount factor                             0.00  \n",
      "Discounted equity value                     0.00  \n",
      "(-) Investment need                         0.00  \n",
      "Post-money equity value                     0.00  \n",
      "(-) Equity Investment                       0.00  \n",
      "Pre-money equity value                      0.00  \n",
      "Pre-money price/share                       0.00  \n"
     ]
    }
   ],
   "source": [
    "# Calculate free cash flow\n",
    "df_free_cash_flow.loc['Free Cash Flow',:] = df_free_cash_flow.loc['EBIT',:] + df_free_cash_flow.loc['(-) Taxes',:] + df_free_cash_flow.loc['(-) Capital expenditures',:] + df_free_cash_flow.loc['(+) Depreciation',:]\n",
    "\n",
    "print(df_free_cash_flow)"
   ]
  },
  {
   "cell_type": "markdown",
   "metadata": {},
   "source": [
    "# Company Valuation "
   ]
  },
  {
   "cell_type": "code",
   "execution_count": 14,
   "metadata": {},
   "outputs": [],
   "source": [
    "# Note\n",
    "## 1. Valuation started at the most far out year"
   ]
  },
  {
   "cell_type": "code",
   "execution_count": 15,
   "metadata": {},
   "outputs": [],
   "source": [
    "# Enter desired sales - assume ~4x Revenue \n",
    "df_free_cash_flow.loc['Sales', '2021'] = 15000"
   ]
  },
  {
   "cell_type": "code",
   "execution_count": 16,
   "metadata": {},
   "outputs": [],
   "source": [
    "# Assuming 2x sales multiple \n",
    "df_free_cash_flow.loc['(x) Sales multiple', '2021'] = 2"
   ]
  },
  {
   "cell_type": "code",
   "execution_count": 17,
   "metadata": {},
   "outputs": [],
   "source": [
    "# Calculate the enterprise value \n",
    "df_free_cash_flow.loc['Total equity value', :] =  df_free_cash_flow.loc['(x) Sales multiple', :] * df_free_cash_flow.loc['Sales', :] "
   ]
  },
  {
   "cell_type": "code",
   "execution_count": 18,
   "metadata": {},
   "outputs": [],
   "source": [
    "# Assume most early companies have not net debt\n",
    "# Hence, net debt = 0"
   ]
  },
  {
   "cell_type": "markdown",
   "metadata": {},
   "source": [
    "## Pre / Post Money Valuation"
   ]
  },
  {
   "cell_type": "code",
   "execution_count": 19,
   "metadata": {},
   "outputs": [],
   "source": [
    "# Discount rate (CAPM)\n",
    "# Assumed for a stable big EM company 12% discount rate\n",
    "df_free_cash_flow.loc['Discount rate (CAPM)', :] = .12"
   ]
  },
  {
   "cell_type": "code",
   "execution_count": 20,
   "metadata": {},
   "outputs": [],
   "source": [
    "# Use the probability of success and failre to adjust the discount rate for a startup\n",
    "# Assume the different failure and success rate per year\n",
    "df_free_cash_flow.loc['(/) Probability of success', :] = [.25,.4,.6,.8,1.0]"
   ]
  },
  {
   "cell_type": "code",
   "execution_count": 21,
   "metadata": {},
   "outputs": [],
   "source": [
    "# Hurdle rate = Discount rate (CAPM) / Probability of success\n",
    "df_free_cash_flow.loc['Hurdle Rate', :] = df_free_cash_flow.loc['Discount rate (CAPM)', :]/df_free_cash_flow.loc['(/) Probability of success', :]"
   ]
  },
  {
   "cell_type": "code",
   "execution_count": 22,
   "metadata": {},
   "outputs": [],
   "source": [
    "# Calculate the discount factor \n",
    "df_free_cash_flow.loc['Discount factor', '2017'] = 1/(1+df_free_cash_flow.loc['Hurdle Rate', '2017'])**4\n",
    "df_free_cash_flow.loc['Discount factor', '2018'] = 1/(1+df_free_cash_flow.loc['Hurdle Rate', '2018'])**3\n",
    "df_free_cash_flow.loc['Discount factor', '2019'] = 1/(1+df_free_cash_flow.loc['Hurdle Rate', '2019'])**2\n",
    "df_free_cash_flow.loc['Discount factor', '2020'] = 1/(1+df_free_cash_flow.loc['Hurdle Rate', '2020'])**1\n",
    "df_free_cash_flow.loc['Discount factor', '2021'] = 1/(1+df_free_cash_flow.loc['Hurdle Rate', '2021'])**0"
   ]
  },
  {
   "cell_type": "code",
   "execution_count": 23,
   "metadata": {},
   "outputs": [],
   "source": [
    "# Calculate the discounted equity value \n",
    "## Total equity value in final year * discount rate\n",
    "df_free_cash_flow.loc['Discounted equity value', :] = df_free_cash_flow.loc['Discount factor', :] * df_free_cash_flow.loc['Total equity value', '2021']"
   ]
  },
  {
   "cell_type": "code",
   "execution_count": 24,
   "metadata": {},
   "outputs": [],
   "source": [
    "# Calculate the invstment needed  - how much of the fcf is negative... add total negative sum per year\n",
    "## Manual input to save computational time \n",
    "df_free_cash_flow.loc['(-) Investment need', :] = [-3600,-2600,-100,0,0]"
   ]
  },
  {
   "cell_type": "code",
   "execution_count": 25,
   "metadata": {},
   "outputs": [],
   "source": [
    "# Post-money equity valuation = Discount factor + (-) Investment need\n",
    "df_free_cash_flow.loc['Post-money equity value', :] = df_free_cash_flow.loc['Discounted equity value', :] + df_free_cash_flow.loc['(-) Investment need', :]"
   ]
  },
  {
   "cell_type": "code",
   "execution_count": null,
   "metadata": {},
   "outputs": [],
   "source": []
  },
  {
   "cell_type": "code",
   "execution_count": 26,
   "metadata": {},
   "outputs": [
    {
     "data": {
      "text/html": [
       "<div>\n",
       "<style scoped>\n",
       "    .dataframe tbody tr th:only-of-type {\n",
       "        vertical-align: middle;\n",
       "    }\n",
       "\n",
       "    .dataframe tbody tr th {\n",
       "        vertical-align: top;\n",
       "    }\n",
       "\n",
       "    .dataframe thead th {\n",
       "        text-align: right;\n",
       "    }\n",
       "</style>\n",
       "<table border=\"1\" class=\"dataframe\">\n",
       "  <thead>\n",
       "    <tr style=\"text-align: right;\">\n",
       "      <th></th>\n",
       "      <th>2017</th>\n",
       "      <th>2018</th>\n",
       "      <th>2019</th>\n",
       "      <th>2020</th>\n",
       "      <th>2021</th>\n",
       "    </tr>\n",
       "  </thead>\n",
       "  <tbody>\n",
       "    <tr>\n",
       "      <th>Tax rate</th>\n",
       "      <td>0.350000</td>\n",
       "      <td>0.350000</td>\n",
       "      <td>0.350000</td>\n",
       "      <td>0.350000</td>\n",
       "      <td>0.35</td>\n",
       "    </tr>\n",
       "    <tr>\n",
       "      <th>EBIT</th>\n",
       "      <td>-500.000000</td>\n",
       "      <td>-1000.000000</td>\n",
       "      <td>1000.000000</td>\n",
       "      <td>2500.000000</td>\n",
       "      <td>4000.00</td>\n",
       "    </tr>\n",
       "    <tr>\n",
       "      <th>(-) Taxes</th>\n",
       "      <td>0.000000</td>\n",
       "      <td>0.000000</td>\n",
       "      <td>350.000000</td>\n",
       "      <td>875.000000</td>\n",
       "      <td>1400.00</td>\n",
       "    </tr>\n",
       "    <tr>\n",
       "      <th>(-) Capital expenditures</th>\n",
       "      <td>-500.000000</td>\n",
       "      <td>-2000.000000</td>\n",
       "      <td>-1500.000000</td>\n",
       "      <td>-500.000000</td>\n",
       "      <td>-500.00</td>\n",
       "    </tr>\n",
       "    <tr>\n",
       "      <th>(+) Depreciation</th>\n",
       "      <td>0.000000</td>\n",
       "      <td>500.000000</td>\n",
       "      <td>750.000000</td>\n",
       "      <td>750.000000</td>\n",
       "      <td>500.00</td>\n",
       "    </tr>\n",
       "    <tr>\n",
       "      <th>Free Cash Flow</th>\n",
       "      <td>-1000.000000</td>\n",
       "      <td>-2500.000000</td>\n",
       "      <td>600.000000</td>\n",
       "      <td>3625.000000</td>\n",
       "      <td>5400.00</td>\n",
       "    </tr>\n",
       "    <tr>\n",
       "      <th>(+) Investment</th>\n",
       "      <td>0.000000</td>\n",
       "      <td>0.000000</td>\n",
       "      <td>0.000000</td>\n",
       "      <td>0.000000</td>\n",
       "      <td>0.00</td>\n",
       "    </tr>\n",
       "    <tr>\n",
       "      <th>Free Cash Flow pro forma for investment</th>\n",
       "      <td>0.000000</td>\n",
       "      <td>0.000000</td>\n",
       "      <td>0.000000</td>\n",
       "      <td>0.000000</td>\n",
       "      <td>0.00</td>\n",
       "    </tr>\n",
       "    <tr>\n",
       "      <th>Sales</th>\n",
       "      <td>0.000000</td>\n",
       "      <td>0.000000</td>\n",
       "      <td>0.000000</td>\n",
       "      <td>0.000000</td>\n",
       "      <td>15000.00</td>\n",
       "    </tr>\n",
       "    <tr>\n",
       "      <th>(x) Sales multiple</th>\n",
       "      <td>0.000000</td>\n",
       "      <td>0.000000</td>\n",
       "      <td>0.000000</td>\n",
       "      <td>0.000000</td>\n",
       "      <td>2.00</td>\n",
       "    </tr>\n",
       "    <tr>\n",
       "      <th>Total equity value</th>\n",
       "      <td>0.000000</td>\n",
       "      <td>0.000000</td>\n",
       "      <td>0.000000</td>\n",
       "      <td>0.000000</td>\n",
       "      <td>30000.00</td>\n",
       "    </tr>\n",
       "    <tr>\n",
       "      <th>(-) Accured prefered dividends</th>\n",
       "      <td>0.000000</td>\n",
       "      <td>0.000000</td>\n",
       "      <td>0.000000</td>\n",
       "      <td>0.000000</td>\n",
       "      <td>0.00</td>\n",
       "    </tr>\n",
       "    <tr>\n",
       "      <th>(-) Preferred participation</th>\n",
       "      <td>0.000000</td>\n",
       "      <td>0.000000</td>\n",
       "      <td>0.000000</td>\n",
       "      <td>0.000000</td>\n",
       "      <td>0.00</td>\n",
       "    </tr>\n",
       "    <tr>\n",
       "      <th>Remaining equity value</th>\n",
       "      <td>0.000000</td>\n",
       "      <td>0.000000</td>\n",
       "      <td>0.000000</td>\n",
       "      <td>0.000000</td>\n",
       "      <td>0.00</td>\n",
       "    </tr>\n",
       "    <tr>\n",
       "      <th>Discount rate (CAPM)</th>\n",
       "      <td>0.120000</td>\n",
       "      <td>0.120000</td>\n",
       "      <td>0.120000</td>\n",
       "      <td>0.120000</td>\n",
       "      <td>0.12</td>\n",
       "    </tr>\n",
       "    <tr>\n",
       "      <th>(/) Probability of success</th>\n",
       "      <td>0.250000</td>\n",
       "      <td>0.400000</td>\n",
       "      <td>0.600000</td>\n",
       "      <td>0.800000</td>\n",
       "      <td>1.00</td>\n",
       "    </tr>\n",
       "    <tr>\n",
       "      <th>Hurdle Rate</th>\n",
       "      <td>0.480000</td>\n",
       "      <td>0.300000</td>\n",
       "      <td>0.200000</td>\n",
       "      <td>0.150000</td>\n",
       "      <td>0.12</td>\n",
       "    </tr>\n",
       "    <tr>\n",
       "      <th>Discount factor</th>\n",
       "      <td>0.208427</td>\n",
       "      <td>0.455166</td>\n",
       "      <td>0.694444</td>\n",
       "      <td>0.869565</td>\n",
       "      <td>1.00</td>\n",
       "    </tr>\n",
       "    <tr>\n",
       "      <th>Discounted equity value</th>\n",
       "      <td>6252.797919</td>\n",
       "      <td>13654.984069</td>\n",
       "      <td>20833.333333</td>\n",
       "      <td>26086.956522</td>\n",
       "      <td>30000.00</td>\n",
       "    </tr>\n",
       "    <tr>\n",
       "      <th>(-) Investment need</th>\n",
       "      <td>-3600.000000</td>\n",
       "      <td>-2600.000000</td>\n",
       "      <td>-100.000000</td>\n",
       "      <td>0.000000</td>\n",
       "      <td>0.00</td>\n",
       "    </tr>\n",
       "    <tr>\n",
       "      <th>Post-money equity value</th>\n",
       "      <td>2652.797919</td>\n",
       "      <td>11054.984069</td>\n",
       "      <td>20733.333333</td>\n",
       "      <td>26086.956522</td>\n",
       "      <td>30000.00</td>\n",
       "    </tr>\n",
       "    <tr>\n",
       "      <th>(-) Equity Investment</th>\n",
       "      <td>0.000000</td>\n",
       "      <td>0.000000</td>\n",
       "      <td>0.000000</td>\n",
       "      <td>0.000000</td>\n",
       "      <td>0.00</td>\n",
       "    </tr>\n",
       "    <tr>\n",
       "      <th>Pre-money equity value</th>\n",
       "      <td>0.000000</td>\n",
       "      <td>0.000000</td>\n",
       "      <td>0.000000</td>\n",
       "      <td>0.000000</td>\n",
       "      <td>0.00</td>\n",
       "    </tr>\n",
       "    <tr>\n",
       "      <th>Pre-money price/share</th>\n",
       "      <td>0.000000</td>\n",
       "      <td>0.000000</td>\n",
       "      <td>0.000000</td>\n",
       "      <td>0.000000</td>\n",
       "      <td>0.00</td>\n",
       "    </tr>\n",
       "  </tbody>\n",
       "</table>\n",
       "</div>"
      ],
      "text/plain": [
       "                                                2017          2018  \\\n",
       "Tax rate                                    0.350000      0.350000   \n",
       "EBIT                                     -500.000000  -1000.000000   \n",
       "(-) Taxes                                   0.000000      0.000000   \n",
       "(-) Capital expenditures                 -500.000000  -2000.000000   \n",
       "(+) Depreciation                            0.000000    500.000000   \n",
       "Free Cash Flow                          -1000.000000  -2500.000000   \n",
       "(+) Investment                              0.000000      0.000000   \n",
       "Free Cash Flow pro forma for investment     0.000000      0.000000   \n",
       "Sales                                       0.000000      0.000000   \n",
       "(x) Sales multiple                          0.000000      0.000000   \n",
       "Total equity value                          0.000000      0.000000   \n",
       "(-) Accured prefered dividends              0.000000      0.000000   \n",
       "(-) Preferred participation                 0.000000      0.000000   \n",
       "Remaining equity value                      0.000000      0.000000   \n",
       "Discount rate (CAPM)                        0.120000      0.120000   \n",
       "(/) Probability of success                  0.250000      0.400000   \n",
       "Hurdle Rate                                 0.480000      0.300000   \n",
       "Discount factor                             0.208427      0.455166   \n",
       "Discounted equity value                  6252.797919  13654.984069   \n",
       "(-) Investment need                     -3600.000000  -2600.000000   \n",
       "Post-money equity value                  2652.797919  11054.984069   \n",
       "(-) Equity Investment                       0.000000      0.000000   \n",
       "Pre-money equity value                      0.000000      0.000000   \n",
       "Pre-money price/share                       0.000000      0.000000   \n",
       "\n",
       "                                                 2019          2020      2021  \n",
       "Tax rate                                     0.350000      0.350000      0.35  \n",
       "EBIT                                      1000.000000   2500.000000   4000.00  \n",
       "(-) Taxes                                  350.000000    875.000000   1400.00  \n",
       "(-) Capital expenditures                 -1500.000000   -500.000000   -500.00  \n",
       "(+) Depreciation                           750.000000    750.000000    500.00  \n",
       "Free Cash Flow                             600.000000   3625.000000   5400.00  \n",
       "(+) Investment                               0.000000      0.000000      0.00  \n",
       "Free Cash Flow pro forma for investment      0.000000      0.000000      0.00  \n",
       "Sales                                        0.000000      0.000000  15000.00  \n",
       "(x) Sales multiple                           0.000000      0.000000      2.00  \n",
       "Total equity value                           0.000000      0.000000  30000.00  \n",
       "(-) Accured prefered dividends               0.000000      0.000000      0.00  \n",
       "(-) Preferred participation                  0.000000      0.000000      0.00  \n",
       "Remaining equity value                       0.000000      0.000000      0.00  \n",
       "Discount rate (CAPM)                         0.120000      0.120000      0.12  \n",
       "(/) Probability of success                   0.600000      0.800000      1.00  \n",
       "Hurdle Rate                                  0.200000      0.150000      0.12  \n",
       "Discount factor                              0.694444      0.869565      1.00  \n",
       "Discounted equity value                  20833.333333  26086.956522  30000.00  \n",
       "(-) Investment need                       -100.000000      0.000000      0.00  \n",
       "Post-money equity value                  20733.333333  26086.956522  30000.00  \n",
       "(-) Equity Investment                        0.000000      0.000000      0.00  \n",
       "Pre-money equity value                       0.000000      0.000000      0.00  \n",
       "Pre-money price/share                        0.000000      0.000000      0.00  "
      ]
     },
     "execution_count": 26,
     "metadata": {},
     "output_type": "execute_result"
    }
   ],
   "source": [
    "df_free_cash_flow"
   ]
  },
  {
   "cell_type": "markdown",
   "metadata": {},
   "source": [
    "## Capitalisation Table"
   ]
  },
  {
   "cell_type": "code",
   "execution_count": 28,
   "metadata": {},
   "outputs": [
    {
     "data": {
      "text/html": [
       "<div>\n",
       "<style scoped>\n",
       "    .dataframe tbody tr th:only-of-type {\n",
       "        vertical-align: middle;\n",
       "    }\n",
       "\n",
       "    .dataframe tbody tr th {\n",
       "        vertical-align: top;\n",
       "    }\n",
       "\n",
       "    .dataframe thead th {\n",
       "        text-align: right;\n",
       "    }\n",
       "</style>\n",
       "<table border=\"1\" class=\"dataframe\">\n",
       "  <thead>\n",
       "    <tr style=\"text-align: right;\">\n",
       "      <th></th>\n",
       "      <th>Series A - 2017</th>\n",
       "      <th>Series B - 2018</th>\n",
       "      <th>Series C - 2019</th>\n",
       "      <th>2020</th>\n",
       "      <th>Exit - 2021</th>\n",
       "    </tr>\n",
       "  </thead>\n",
       "  <tbody>\n",
       "    <tr>\n",
       "      <th>Management</th>\n",
       "      <td>0.0</td>\n",
       "      <td>0.0</td>\n",
       "      <td>0.0</td>\n",
       "      <td>0.0</td>\n",
       "      <td>0.0</td>\n",
       "    </tr>\n",
       "    <tr>\n",
       "      <th>Investor 1</th>\n",
       "      <td>1000.0</td>\n",
       "      <td>1000.0</td>\n",
       "      <td>0.0</td>\n",
       "      <td>0.0</td>\n",
       "      <td>0.0</td>\n",
       "    </tr>\n",
       "    <tr>\n",
       "      <th>Investor 2</th>\n",
       "      <td>0.0</td>\n",
       "      <td>1500.0</td>\n",
       "      <td>0.0</td>\n",
       "      <td>0.0</td>\n",
       "      <td>0.0</td>\n",
       "    </tr>\n",
       "    <tr>\n",
       "      <th>Investor 3</th>\n",
       "      <td>0.0</td>\n",
       "      <td>0.0</td>\n",
       "      <td>100.0</td>\n",
       "      <td>0.0</td>\n",
       "      <td>0.0</td>\n",
       "    </tr>\n",
       "    <tr>\n",
       "      <th>Total</th>\n",
       "      <td>1000.0</td>\n",
       "      <td>2500.0</td>\n",
       "      <td>100.0</td>\n",
       "      <td>0.0</td>\n",
       "      <td>0.0</td>\n",
       "    </tr>\n",
       "  </tbody>\n",
       "</table>\n",
       "</div>"
      ],
      "text/plain": [
       "            Series A - 2017  Series B - 2018  Series C - 2019  2020  \\\n",
       "Management              0.0              0.0              0.0   0.0   \n",
       "Investor 1           1000.0           1000.0              0.0   0.0   \n",
       "Investor 2              0.0           1500.0              0.0   0.0   \n",
       "Investor 3              0.0              0.0            100.0   0.0   \n",
       "Total                1000.0           2500.0            100.0   0.0   \n",
       "\n",
       "            Exit - 2021  \n",
       "Management          0.0  \n",
       "Investor 1          0.0  \n",
       "Investor 2          0.0  \n",
       "Investor 3          0.0  \n",
       "Total               0.0  "
      ]
     },
     "execution_count": 28,
     "metadata": {},
     "output_type": "execute_result"
    }
   ],
   "source": [
    "# Note  - ($ in thousands, shares in millions)\n",
    "# Initalise the capitalisation table \n",
    "cap_table = pd.DataFrame(index=['Management', 'Investor 1', 'Investor 2', 'Investor 3', 'Total'], \n",
    "                         columns=['Series A - 2017', 'Series B - 2018', 'Series C - 2019', '2020', 'Exit - 2021' ])\n",
    "cap_table.fillna(0.0, inplace=True)\n",
    "cap_table\n",
    "\n",
    "# In 2017, Business raised series A at £1m for investor 1\n",
    "cap_table.loc['Investor 1', 'Series A - 2017'] = 1000\n",
    "# In 2018, Business raised series B - investor 1 - £1m and investor 2 - £1.5m\n",
    "cap_table.loc['Investor 1', 'Series B - 2018'] = 1000\n",
    "cap_table.loc['Investor 2', 'Series B - 2018'] = 1500\n",
    "# In 2019, Business raised series C from investor 3 £100k\n",
    "cap_table.loc['Investor 3', 'Series C - 2019'] = 100\n",
    "\n",
    "# Calculate the total\n",
    "cap_table.loc['Total', :] = cap_table.loc['Investor 1', :] + cap_table.loc['Investor 2', :] + cap_table.loc['Investor 3', :] + cap_table.loc['Management', :]  \n",
    "cap_table"
   ]
  },
  {
   "cell_type": "code",
   "execution_count": null,
   "metadata": {},
   "outputs": [],
   "source": [
    "#"
   ]
  }
 ],
 "metadata": {
  "kernelspec": {
   "display_name": "Python 3",
   "language": "python",
   "name": "python3"
  },
  "language_info": {
   "codemirror_mode": {
    "name": "ipython",
    "version": 3
   },
   "file_extension": ".py",
   "mimetype": "text/x-python",
   "name": "python",
   "nbconvert_exporter": "python",
   "pygments_lexer": "ipython3",
   "version": "3.7.3"
  }
 },
 "nbformat": 4,
 "nbformat_minor": 2
}
